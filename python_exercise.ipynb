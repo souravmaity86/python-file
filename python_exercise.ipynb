{
 "cells": [
  {
   "cell_type": "code",
   "execution_count": 5,
   "id": "006cf91c-1108-4496-871a-ee476a0e6028",
   "metadata": {},
   "outputs": [
    {
     "name": "stdout",
     "output_type": "stream",
     "text": [
      "['acbde', 'qwert']\n"
     ]
    }
   ],
   "source": [
    "\n",
    "#Write a program which takes input a list of strings and removes strings until all the remaining\n",
    "#strings are of equal lengths . Assume that in the input list , there will be at-least two strings of\n",
    "#the same length . For simplicity , assume that list will not contain equal length strings for\n",
    "#multiple lengths\n",
    "example_input =['abc','abcd','acbde','acbgeh','qwert']\n",
    "l=[]\n",
    "l1=[]\n",
    "out_put=[]\n",
    "for ele in example_input:\n",
    "    l.append(len(ele))\n",
    "    # the item which is to be removed\n",
    "for i in l:\n",
    "    if l.count(i)>1:\n",
    "        l1.append(i)\n",
    "for ele in example_input:\n",
    "    if len(ele)==5:\n",
    "        out_put.append(ele)\n",
    "print(out_put)\n"
   ]
  },
  {
   "cell_type": "code",
   "execution_count": 3,
   "id": "b4fea132-d6be-4e7b-9d83-dad0ed4b93a5",
   "metadata": {},
   "outputs": [
    {
     "data": {
      "text/plain": [
       "[5, 5]"
      ]
     },
     "execution_count": 3,
     "metadata": {},
     "output_type": "execute_result"
    }
   ],
   "source": [
    "l1"
   ]
  },
  {
   "cell_type": "code",
   "execution_count": 9,
   "id": "6561e38c-5595-452c-a7ae-bb7df3ba7aa5",
   "metadata": {},
   "outputs": [
    {
     "name": "stdin",
     "output_type": "stream",
     "text": [
      "ENTER LOWEST NUMBER :  1\n",
      "ENTER HIGHEST NUMBER :  100\n"
     ]
    },
    {
     "name": "stdout",
     "output_type": "stream",
     "text": [
      "HARSHAD NUMBERS WITHIN RANGE(1,100) ARE -\n",
      "1 2 3 4 5 6 7 8 9 10 12 18 20 21 24 27 30 36 40 42 45 48 50 54 60 63 70 72 80 81 84 90 100 "
     ]
    }
   ],
   "source": [
    "#harshad no check in a range\n",
    "def harshad(n):\n",
    "    ele=str(n)\n",
    "    sum=0\n",
    "    check=False\n",
    "    for num  in ele:\n",
    "            sum=sum+int(num)\n",
    "    if n%sum==0:\n",
    "        check=True\n",
    "    return check\n",
    "        \n",
    "lower = int(input(\"ENTER LOWEST NUMBER : \"))\n",
    "upper = int(input(\"ENTER HIGHEST NUMBER : \"))\n",
    "print(\"HARSHAD NUMBERS WITHIN RANGE({},{}) ARE -\".format(lower,upper))\n",
    "for i in range(lower,upper+1):\n",
    "  if harshad(i):\n",
    "    print(i,end = \" \")"
   ]
  },
  {
   "cell_type": "code",
   "execution_count": 24,
   "id": "7cbd76e4-7d24-450a-9fc3-28c45a4dfac5",
   "metadata": {},
   "outputs": [
    {
     "name": "stdout",
     "output_type": "stream",
     "text": [
      "after removing all the elements divisible by 3 new list[88, 64, 37, 55, 76, 88, 65, 94, 17, 10, 65, 94, 28, 41, 58, 23, 67, 43, 83, 77, 94, 46, 49, 29, 77, 83, 64, 55, 20, 38, 91, 32]\n",
      "after subtrcation new list[89, 65, 38, 56, 77, 89, 66, 95, 18, 11, 66, 95, 29, 42, 59, 24, 68, 44, 84, 78, 95, 47, 50, 30, 78, 84, 65, 56, 21, 39, 92, 33]\n",
      "after removing all the elements divisible by 5 new list[89, 38, 56, 77, 89, 66, 18, 11, 66, 29, 42, 59, 24, 68, 44, 84, 78, 47, 78, 84, 56, 21, 39, 92, 33]\n"
     ]
    }
   ],
   "source": [
    "# Generate a list containing 50 random integers between 10 to 100. Write a program which\n",
    "#removes all the values which are divisible by 3 from the list . Then it subtracts 1 from all the\n",
    "#remaining values and then removes all the values divisible by 5 from the list \n",
    "\n",
    "import numpy as np\n",
    "l=[]\n",
    "res=[]\n",
    "result=[]\n",
    "x=np.random.randint(10,101,50)\n",
    "for i in x:\n",
    "    if i%3!=0:\n",
    "        l.append(i)\n",
    "print('after removing all the elements divisible by 3 new list{}'.format(l))\n",
    "for num in l:\n",
    "    result.append(num+1)\n",
    "print('after subtrcation new list{}'.format(list(result)))\n",
    "for ele in result:\n",
    "    if ele%5!=0:\n",
    "        res.append(ele)\n",
    "print('after removing all the elements divisible by 5 new list{}'.format(list(res)))"
   ]
  },
  {
   "cell_type": "code",
   "execution_count": 30,
   "id": "52577175-4049-47b8-b904-bb15f7ab7120",
   "metadata": {},
   "outputs": [
    {
     "name": "stdin",
     "output_type": "stream",
     "text": [
      "ENTER LOWEST NUMBER :  1\n",
      "ENTER HIGHEST NUMBER :  10\n"
     ]
    },
    {
     "name": "stdout",
     "output_type": "stream",
     "text": [
      "FIBONACCI NUMBERS WITHIN RANGE(1,10) ARE -\n",
      "[1, 2, 3, 5, 8]\n",
      "[2, 8]\n",
      "10\n"
     ]
    }
   ],
   "source": [
    "#8. Write a function which takes an integer n as input and returns sum of all even numbers in\n",
    "#the first n terms of a fibonacci series \n",
    "import math\n",
    "def isPerfectSquare(x):\n",
    "    s = int(math.sqrt(x))\n",
    "    return s*s == x\n",
    " \n",
    "# Returns true if n is a Fibonacci Number, else false\n",
    " \n",
    " \n",
    "def isFibonacci(n):\n",
    " \n",
    "    # n is Fibonacci if one of 5*n*n + 4 or 5*n*n - 4 or both\n",
    "    \n",
    "    return isPerfectSquare(5*n*n + 4) or isPerfectSquare(5*n*n - 4)\n",
    " \n",
    " \n",
    "# A utility function to test above functions\n",
    "l=[]\n",
    "lower = int(input(\"ENTER LOWEST NUMBER : \"))\n",
    "upper = int(input(\"ENTER HIGHEST NUMBER : \"))\n",
    "print(\"FIBONACCI NUMBERS WITHIN RANGE({},{}) ARE -\".format(lower,upper))\n",
    "for i in range(lower, upper+1):\n",
    "    if (isFibonacci(i) == True):\n",
    "        l.append(i)\n",
    "print(l)\n",
    "sum=0\n",
    "\n",
    "res = [num for num in l if num %2== 0]\n",
    "print(res)\n",
    "for ele in res:\n",
    "    sum+=ele\n",
    "print(sum)"
   ]
  },
  {
   "cell_type": "code",
   "execution_count": 48,
   "id": "0891e217-e5d9-4cac-ace5-61811cde1fb0",
   "metadata": {},
   "outputs": [
    {
     "name": "stdout",
     "output_type": "stream",
     "text": [
      "114\n",
      "324\n"
     ]
    },
    {
     "data": {
      "text/plain": [
       "209.45"
      ]
     },
     "execution_count": 48,
     "metadata": {},
     "output_type": "execute_result"
    }
   ],
   "source": [
    "#Imagine a circle and two squares: a smaller and a bigger one. For the smaller one, the circle\n",
    "#is a circumcircle and for the bigger one, an incircle\n",
    "import math\n",
    "class area:\n",
    "    def __init__(self, radius):\n",
    "        self.r = radius\n",
    "class area1(area):\n",
    "    def __init__(self, radius):\n",
    "        # Calling init of parent class\n",
    "        area.__init__(self, radius)\n",
    "    def area2(self):\n",
    "        small_square=math.sqrt(2)*self.r*self.r\n",
    "        print(int(small_square))\n",
    "        large_square=4*self.r*self.r\n",
    "        print(int(large_square))\n",
    "        return round(large_square-small_square,2)\n",
    "R=area1(9)\n",
    "R.area2()"
   ]
  },
  {
   "cell_type": "code",
   "execution_count": 51,
   "id": "ab369e6d-f559-4951-9729-aa7a0cf6cd4b",
   "metadata": {},
   "outputs": [
    {
     "name": "stdout",
     "output_type": "stream",
     "text": [
      "{'a': 4, 'b': 3, 'c': 2}\n"
     ]
    }
   ],
   "source": [
    "# given a list , create a dictionary with counts of unique elements that it contains input list =\n",
    "#['a','b','a','a','b','c','c','a','b'] output dictionary = {'a':4,'b':3,'c':2} \n",
    "\n",
    "\n",
    "def CountFrequency(my_list):   \n",
    "        count={}\n",
    "        for i in my_list:\n",
    "            count[i] = count.get(i, 0) + 1\n",
    "        return count\n",
    "    \n",
    " \n",
    " \n",
    "\n",
    "my_list =['a','b','a','a','b','c','c','a','b']\n",
    "print(CountFrequency(my_list))"
   ]
  },
  {
   "cell_type": "code",
   "execution_count": 2,
   "id": "76aaad00-2500-4000-9b94-90b9a550d494",
   "metadata": {},
   "outputs": [
    {
     "data": {
      "text/plain": [
       "'e$neqtep'"
      ]
     },
     "execution_count": 2,
     "metadata": {},
     "output_type": "execute_result"
    }
   ],
   "source": [
    "#Write a program which takes input any string and then replaces all the letters which are keys in\n",
    "#the above dictionary with their corresponding values in the dictionary\n",
    "def string_remap(input_string,dict_map):\n",
    "    \n",
    "    x=list(input_string)\n",
    "    \n",
    "    for i,char in enumerate(x):\n",
    "        \n",
    "        if char in dict_map.keys():\n",
    "            x[i]=dict_map[char]\n",
    "            \n",
    "    remapped_string=''.join(x)\n",
    "    return(remapped_string)\n",
    "string_remap('abjected',{'a':'e','b':'$','c':'q','d':'p','j':'n'})"
   ]
  },
  {
   "cell_type": "code",
   "execution_count": null,
   "id": "2bdff159-7daa-436e-9374-ea334f3f3aa1",
   "metadata": {},
   "outputs": [],
   "source": [
    "#Use dictionary comprehension to create a dictionary with keys : t1,t2,t3.......t100\n",
    "#which takes random integers from the range [1,100] as their corresponding values. Write a\n",
    "#function which takes this dictionary as input and returns number of unique values from all\n",
    "#key:value pairs in that dictionary "
   ]
  },
  {
   "cell_type": "code",
   "execution_count": 7,
   "id": "786d0dd5-e9c2-4d77-8fbd-ba51c57d359d",
   "metadata": {},
   "outputs": [
    {
     "name": "stdout",
     "output_type": "stream",
     "text": [
      "{'t1': 50, 't2': 15, 't3': 11, 't4': 34, 't5': 89, 't6': 79, 't7': 6, 't8': 9, 't9': 46, 't10': 33, 't11': 90, 't12': 61, 't13': 38, 't14': 39, 't15': 1, 't16': 100, 't17': 65, 't18': 32, 't19': 20, 't20': 65, 't21': 11, 't22': 47, 't23': 10, 't24': 2, 't25': 9, 't26': 87, 't27': 47, 't28': 87, 't29': 63, 't30': 70, 't31': 100, 't32': 12, 't33': 72, 't34': 33, 't35': 35, 't36': 33, 't37': 87, 't38': 7, 't39': 50, 't40': 4, 't41': 95, 't42': 61, 't43': 33, 't44': 21, 't45': 17, 't46': 29, 't47': 30, 't48': 92, 't49': 16, 't50': 98, 't51': 79, 't52': 54, 't53': 60, 't54': 27, 't55': 43, 't56': 73, 't57': 95, 't58': 44, 't59': 35, 't60': 79, 't61': 2, 't62': 58, 't63': 79, 't64': 46, 't65': 49, 't66': 32, 't67': 94, 't68': 47, 't69': 49, 't70': 98, 't71': 75, 't72': 38, 't73': 20, 't74': 54, 't75': 25, 't76': 13, 't77': 40, 't78': 40, 't79': 88, 't80': 1, 't81': 28, 't82': 70, 't83': 2, 't84': 9, 't85': 1, 't86': 21, 't87': 9, 't88': 81, 't89': 31, 't90': 65, 't91': 15, 't92': 66, 't93': 66, 't94': 81, 't95': 85, 't96': 7, 't97': 68, 't98': 65, 't99': 47, 't100': 40}\n"
     ]
    },
    {
     "data": {
      "text/plain": [
       "58"
      ]
     },
     "execution_count": 7,
     "metadata": {},
     "output_type": "execute_result"
    }
   ],
   "source": [
    "import numpy as np\n",
    "d ={'t'+str(i):np.random.randint(1,101) for i in range(1,101)}\n",
    "print(d)\n",
    "def dict_unique_vals(some_dict):\n",
    "    \n",
    "    unique_vals=set(some_dict.values())\n",
    "    \n",
    "    return(len(unique_vals))\n",
    "dict_unique_vals(d)"
   ]
  },
  {
   "cell_type": "code",
   "execution_count": null,
   "id": "417db766-6c1a-42ba-b234-a0d1289eb391",
   "metadata": {},
   "outputs": [],
   "source": [
    "#10. consider this list of addresses\n",
    "['H-73, MDT, Powai , Mumbai' , '1604, SS, Hyderabad' ,'B block 73, Adyar, Chennai']\n",
    "Extract cities from each address, use list comprehension .\n",
    "Hints :\n",
    "Write list comprehension to convert this to list of lists [ use split function on strings]\n",
    "Extract last element of each of these individual list using index -1, using list comprehension"
   ]
  },
  {
   "cell_type": "code",
   "execution_count": 13,
   "id": "8f794824-def2-4d81-85d4-e4e380236bd4",
   "metadata": {},
   "outputs": [],
   "source": [
    "x=['H-73, MDT, Powai , Mumbai' , '1604, SS, Hyderabad' ,'B block 73, Adyar, Chennai']\n",
    "\n",
    "cities=[elem.split(',')[-1] for elem in x]"
   ]
  },
  {
   "cell_type": "code",
   "execution_count": 14,
   "id": "e2b55ff4-2b44-4bca-96a4-3ee64a5aa60d",
   "metadata": {},
   "outputs": [
    {
     "data": {
      "text/plain": [
       "[' Mumbai', ' Hyderabad', ' Chennai']"
      ]
     },
     "execution_count": 14,
     "metadata": {},
     "output_type": "execute_result"
    }
   ],
   "source": [
    "cities"
   ]
  },
  {
   "cell_type": "code",
   "execution_count": null,
   "id": "3d2395da-eb03-4414-b4e1-59a07eebc3c8",
   "metadata": {},
   "outputs": [],
   "source": [
    "#Write a function which takes input an english sentence of any length , and a set containing\n",
    "#some stop words. Function then removes all stop words from the sentence and returns a\n",
    "#dictionary where keys are all unique words in the sentence and values are their count in the\n",
    "#sentence ."
   ]
  },
  {
   "cell_type": "code",
   "execution_count": 15,
   "id": "446caa1e-f6e6-4a6a-ba77-8c48ec36bc07",
   "metadata": {},
   "outputs": [],
   "source": [
    "def count_dict(sent,stop_words):\n",
    "    \n",
    "    all_words=sent.split()\n",
    "    \n",
    "    sans_stop=[word for word in all_words if word not in stop_words]\n",
    "    \n",
    "    d={}\n",
    "    \n",
    "    for word in set(sans_stop):\n",
    "        d[word]=sans_stop.count(word)\n",
    "        \n",
    "    return(d)"
   ]
  },
  {
   "cell_type": "code",
   "execution_count": 16,
   "id": "79edb39f-9429-4f15-a486-11c65acd9f0d",
   "metadata": {},
   "outputs": [
    {
     "data": {
      "text/plain": [
       "{'all': 1, 'for': 1, 'that': 11, 'not': 1, 'same': 1, 'true': 1, 'refers': 2}"
      ]
     },
     "execution_count": 16,
     "metadata": {},
     "output_type": "execute_result"
    }
   ],
   "source": [
    "sent='it is true for all that that that that that that that refers to is not the same that that that that refers to'\n",
    "stop={'is','to','it','the'}\n",
    "count_dict(sent,stop)"
   ]
  },
  {
   "cell_type": "code",
   "execution_count": null,
   "id": "7b1178d1-5b6a-497c-badd-4a88d832cc56",
   "metadata": {},
   "outputs": [],
   "source": []
  }
 ],
 "metadata": {
  "kernelspec": {
   "display_name": "Python 3 (ipykernel)",
   "language": "python",
   "name": "python3"
  },
  "language_info": {
   "codemirror_mode": {
    "name": "ipython",
    "version": 3
   },
   "file_extension": ".py",
   "mimetype": "text/x-python",
   "name": "python",
   "nbconvert_exporter": "python",
   "pygments_lexer": "ipython3",
   "version": "3.10.6"
  }
 },
 "nbformat": 4,
 "nbformat_minor": 5
}
